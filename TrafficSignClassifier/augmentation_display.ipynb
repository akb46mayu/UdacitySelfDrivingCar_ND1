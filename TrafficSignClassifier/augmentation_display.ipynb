{
 "cells": [
  {
   "cell_type": "markdown",
   "metadata": {},
   "source": [
    "This file shows the results under different image transformations"
   ]
  },
  {
   "cell_type": "code",
   "execution_count": 12,
   "metadata": {},
   "outputs": [
    {
     "name": "stdout",
     "output_type": "stream",
     "text": [
      "-2 -1\n",
      "-1\n"
     ]
    },
    {
     "data": {
      "image/png": "[encoded data removed]",
      "text/plain": [
       "<matplotlib.figure.Figure at 0x19080bb9f60>"
      ]
     },
     "metadata": {},
     "output_type": "display_data"
    }
   ],
   "source": [
    "# Load pickled data\n",
    "import pickle\n",
    "import matplotlib.pyplot as plt\n",
    "from matplotlib import gridspec\n",
    "from IPython.display import Image\n",
    "import pandas as pd\n",
    "import numpy as np\n",
    "import cv2\n",
    "from math import ceil\n",
    "from sklearn.utils import shuffle\n",
    "\n",
    "%matplotlib inline\n",
    "\n",
    "training_file = './imgs/train.p'\n",
    "\n",
    "def open_file(input_file):\n",
    "    with open(input_file, mode='rb') as f:\n",
    "        output_file = pickle.load(f)\n",
    "    X_data, y_data = output_file['features'], output_file['labels']\n",
    "    return X_data, y_data\n",
    "\n",
    "\n",
    "def reduce_channel(x):\n",
    "    out = np.sum(x / 3, axis = 3, keepdims = True) \n",
    "    return out\n",
    "\n",
    "def f_normalize(x):\n",
    "    out =  (x - 128) / 128\n",
    "    return out\n",
    "\n",
    "i = 2\n",
    "X_train, y_train = open_file(training_file)\n",
    "X_train_gray = reduce_channel(X_train)\n",
    "X_train = f_normalize(X_train_gray)\n",
    "#plt.imshow(X_train[i].squeeze())\n",
    "\n",
    "# translation \n",
    "\n",
    "dx, dy = np.random.randint(-2, 2, 2)\n",
    "print (dx, dy)\n",
    "M = np.float32([[1, 0, dx], [0, 1, dy]])\n",
    "dst = cv2.warpAffine(X_train[i], M, (X_train[i].shape[0], X_train[i].shape[1]))\n",
    "dst = dst[:,:,None]\n",
    "#plt.imshow(dst.squeeze())\n",
    "\n",
    "# rotation\n",
    "tilt = np.random.randint(-10, 10)\n",
    "M = cv2.getRotationMatrix2D((X_train[i].shape[0]/2, X_train[i].shape[1]/2), tilt, 1)\n",
    "dst2 = cv2.warpAffine(X_train[i], M, (X_train[i].shape[0], X_train[i].shape[1]))\n",
    "dst2 = dst2[:,:,None]\n",
    "#plt.imshow(dst2.squeeze()) \n",
    "\n",
    "# warping\n",
    "rows =32\n",
    "cols = 32\n",
    "# transform limits\n",
    "px = np.random.randint(-3, 3)\n",
    "print(px)\n",
    "# ending locations\n",
    "pts1 = np.float32([[px,px],[rows-px,px],[px,cols-px],[rows-px,cols-px]])\n",
    "# starting locations (4 corners)\n",
    "pts2 = np.float32([[0,0],[rows,0],[0,cols],[rows,cols]])\n",
    "M = cv2.getPerspectiveTransform(pts1,pts2)\n",
    "dst3 = cv2.warpPerspective(X_train[i],M,(rows,cols))\n",
    "dst3 = dst3[:,:,None]\n",
    "#plt.imshow(dst3.squeeze()) \n",
    "\n",
    "\n",
    "_, axs = plt.subplots(1, 4, figsize=(10, 5))\n",
    "axs = axs.ravel()\n",
    "\n",
    "for i in range(4):\n",
    "    if i == 0:\n",
    "        axs[i].imshow(X_train[i].squeeze(), cmap = 'gray')\n",
    "        axs[i].set_title('Original')\n",
    "    elif i == 1:\n",
    "        axs[i].imshow(dst.squeeze(), cmap = 'gray')\n",
    "        axs[i].set_title('translation')\n",
    "    elif i == 2:\n",
    "        axs[i].imshow(dst2.squeeze(), cmap = 'gray')\n",
    "        axs[i].set_title(\"rotation\")\n",
    "    else:\n",
    "        axs[i].imshow(dst3.squeeze(), cmap = 'gray')\n",
    "        axs[i].set_title(\"scaled\")\n",
    "    axs[i].axis('off')"
   ]
  },
  {
   "cell_type": "code",
   "execution_count": null,
   "metadata": {},
   "outputs": [],
   "source": []
  }
 ],
 "metadata": {
  "kernelspec": {
   "display_name": "Python 3",
   "language": "python",
   "name": "python3"
  },
  "language_info": {
   "codemirror_mode": {
    "name": "ipython",
    "version": 3
   },
   "file_extension": ".py",
   "mimetype": "text/x-python",
   "name": "python",
   "nbconvert_exporter": "python",
   "pygments_lexer": "ipython3",
   "version": "3.5.2"
  },
  "widgets": {
   "state": {},
   "version": "1.1.2"
  }
 },
 "nbformat": 4,
 "nbformat_minor": 2
}
